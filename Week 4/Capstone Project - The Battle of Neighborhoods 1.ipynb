{
 "cells": [
  {
   "cell_type": "markdown",
   "metadata": {
    "collapsed": true
   },
   "source": [
    "# Capstone Project - The Battle of Neighborhoods"
   ]
  },
  {
   "cell_type": "markdown",
   "metadata": {},
   "source": [
    "## Introduction"
   ]
  },
  {
   "cell_type": "markdown",
   "metadata": {},
   "source": [
    " "
   ]
  },
  {
   "cell_type": "markdown",
   "metadata": {},
   "source": [
    "Scarborough is a popular destination for new immigrants in Canada. As a result, it is one of the most diverse and multicultural areas in the Greater Toronto Area. If people are aware about the new city, the process of relocation, renting or buying a house becomes easier. "
   ]
  },
  {
   "cell_type": "markdown",
   "metadata": {},
   "source": [
    "## Business Problem"
   ]
  },
  {
   "cell_type": "markdown",
   "metadata": {},
   "source": [
    "People spend so much time researching houses based on price, reputed schools for their children, access to Super market, medical shops, grocery shops, mall, theatre, hospital etc. The purpose of this project is to explore Scarborough neighborhood so that people find it easy to buy house-based housing prices, access to point of interests and school ratings. "
   ]
  },
  {
   "cell_type": "markdown",
   "metadata": {},
   "source": [
    "## Data Approach"
   ]
  },
  {
   "cell_type": "markdown",
   "metadata": {},
   "source": [
    "This section describes our data approach to find a solution to the business problem. \n",
    "we will gather data about the neighborhood, housing prices and school ratings of Scarborough. We will use foursquare API to research the neighborhood of Scarborough.  Foursquare is a location data provider with information on venues and events within an area of interest. Such information includes venue names, locations, menus and even photos. Foursquare API will be used as data source for gathering information on neighborhood. \n",
    "For the housing prices we will use data from “https://www.kaggle.com/mnabaee/ontarioproperties”\n",
    "To help parents to identify the school reviews we will use data from “https://www.greatschools.org”. \n"
   ]
  },
  {
   "cell_type": "code",
   "execution_count": null,
   "metadata": {},
   "outputs": [],
   "source": []
  }
 ],
 "metadata": {
  "kernelspec": {
   "display_name": "Python 3.6",
   "language": "python",
   "name": "python3"
  },
  "language_info": {
   "codemirror_mode": {
    "name": "ipython",
    "version": 3
   },
   "file_extension": ".py",
   "mimetype": "text/x-python",
   "name": "python",
   "nbconvert_exporter": "python",
   "pygments_lexer": "ipython3",
   "version": "3.6.9"
  }
 },
 "nbformat": 4,
 "nbformat_minor": 1
}
